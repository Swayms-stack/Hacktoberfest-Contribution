{
  "nbformat": 4,
  "nbformat_minor": 0,
  "metadata": {
    "colab": {
      "name": "SENDING BULK EMAILS USING PYTHON.ipynb",
      "provenance": [],
      "collapsed_sections": []
    },
    "kernelspec": {
      "display_name": "Python 3",
      "language": "python",
      "name": "python3"
    },
    "language_info": {
      "codemirror_mode": {
        "name": "ipython",
        "version": 3
      },
      "file_extension": ".py",
      "mimetype": "text/x-python",
      "name": "python",
      "nbconvert_exporter": "python",
      "pygments_lexer": "ipython3",
      "version": "3.8.7"
    }
  },
  "cells": [
    {
      "cell_type": "code",
      "metadata": {
        "id": "_AEoNRjCSFcv"
      },
      "source": [
        "# Import libraries\n",
        "import pandas as pd\n",
        "import smtplib\n",
        "from google.colab import files \n",
        "import io\n",
        "print ('Modules imported')"
      ],
      "execution_count": null,
      "outputs": []
    },
    {
      "cell_type": "code",
      "metadata": {
        "id": "dJ1wxV5OSU1t"
      },
      "source": [
        "# Upload the excel sheet\n",
        "uploaded = files.upload ()\n",
        "\n",
        "'''Create an excel sheet with the heading as Emails and type several email addresses (whom the email needs to be sent) in the following columns. Save it & upload it here.'''"
      ],
      "execution_count": null,
      "outputs": []
    },
    {
      "cell_type": "code",
      "metadata": {
        "id": "8ispbwnZSbw4"
      },
      "source": [
        "Sender_EmailAddress = \"<abc@gmail.com>\"\n",
        "password = \"password of sender\"\n",
        "\n",
        "e = pd.read_excel(\"email.xlsx\")\n",
        "emails = e['Emails'].values\n",
        "server = smtplib.SMTP(\"smtp.gmail.com\", 587)  # 587 is the port number. \n",
        "server.starttls()\n",
        "server.login(\"abc@gmail.com\", \"password\")  # Put the email address & password inside double quotes\n",
        "msg = \"EMAILED USING PYTHON\"\n",
        "subject = \"Hello World !\"\n",
        "body = \"Subject: {}\\n\\n{}\".format(subject,msg)\n",
        "for email in emails:\n",
        "    try:\n",
        "        server.sendmail(Sender_EmailAddress, email, body)\n",
        "    Except Exception as e:\n",
        "        print(\"Message Sending failed\")\n",
        "        print(e)\n",
        "        break\n",
        "server.quit()"
      ],
      "execution_count": null,
      "outputs": []
    },
    {
      "cell_type": "code",
      "metadata": {
        "id": "MGwjGzaNdYfn"
      },
      "source": [
        "''' ENTIRE CODE'''\n",
        "# import pandas as pd\n",
        "# import smtplib\n",
        "\n",
        "# Sender_EmailAddress = \"<Email Address of the sender>\"\n",
        "# password = \"password of the sender\"\n",
        "\n",
        "# e = pd.read_excel(\"email.xlsx\")\n",
        "# emails = e['Emails'].values\n",
        "# server = smtplib.SMTP(\"smtp.gmail.com\", 587)\n",
        "# server.starttls()\n",
        "# server.login(\"Sender's Email Address\", \"password\")\n",
        "# msg = \"Your msg\"\n",
        "# subject = \"Hello World !\"\n",
        "# body = \"Subject: {}\\n\\n{}\".format(subject,msg)\n",
        "# for email in emails:\n",
        "#     try:\n",
        "#       server.sendmail(Sender_EmailAddress, email, body)\n",
        "#     Except Exception as e:\n",
        "#       print(\"Message Sending failed \")\n",
        "#       print(e)\n",
        "#       break\n",
        "# server.quit()"
      ],
      "execution_count": null,
      "outputs": []
    }
  ]
}